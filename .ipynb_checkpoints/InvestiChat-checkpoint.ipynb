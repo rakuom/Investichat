{
 "cells": [
  {
   "cell_type": "code",
   "execution_count": 1,
   "id": "f5077296",
   "metadata": {},
   "outputs": [],
   "source": [
    "#InvestiChat - A personal AI-Powered GPT investment Banker with NSE-listed companies' integrated reports\n",
    "#and financial statements since 2010. The tools to be used are Langchain and Stremalit\n",
    "#Setting up the necessary dependencies "
   ]
  },
  {
   "cell_type": "code",
   "execution_count": 1,
   "id": "72325617",
   "metadata": {},
   "outputs": [],
   "source": [
    "#Import the necessary Libraries\n",
    "import os\n",
    "from langchain.llms import OpenAI\n",
    "from langchain.embeddings import OpenAIEmbeddings\n",
    "import streamlit as st\n",
    "from langchain.document_loaders import PyPDFLoader\n",
    "from langchain.vectorstores import chroma\n",
    "from langchain.agents.agent_toolkits import create_vectorstore_agent\n",
    "from langchain.agents.agent_toolkits import VectorStoreToolkit\n",
    "from langchain.agents.agent_toolkits import VectorStoreInfo\n",
    "\n",
    "#OS is used to set up the OpenAI API key\n",
    "#The main OpenAI language model (LLM) service is imported from Langchain with its embeddngs module"
   ]
  },
  {
   "cell_type": "code",
   "execution_count": 5,
   "id": "9a5f0c0e",
   "metadata": {},
   "outputs": [],
   "source": [
    "\n"
   ]
  },
  {
   "cell_type": "code",
   "execution_count": null,
   "id": "2c66914c",
   "metadata": {},
   "outputs": [],
   "source": []
  }
 ],
 "metadata": {
  "kernelspec": {
   "display_name": "Python 3",
   "language": "python",
   "name": "python3"
  },
  "language_info": {
   "codemirror_mode": {
    "name": "ipython",
    "version": 3
   },
   "file_extension": ".py",
   "mimetype": "text/x-python",
   "name": "python",
   "nbconvert_exporter": "python",
   "pygments_lexer": "ipython3",
   "version": "3.8.8"
  }
 },
 "nbformat": 4,
 "nbformat_minor": 5
}
